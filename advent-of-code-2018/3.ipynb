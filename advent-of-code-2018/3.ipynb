{
 "cells": [
  {
   "cell_type": "markdown",
   "metadata": {},
   "source": [
    "--- Day 3: No Matter How You Slice It ---\n",
    "\n",
    "The Elves managed to locate the chimney-squeeze prototype fabric for Santa's suit (thanks to someone who helpfully wrote its box IDs on the wall of the warehouse in the middle of the night). Unfortunately, anomalies are still affecting them - nobody can even agree on how to cut the fabric.\n",
    "\n",
    "The whole piece of fabric they're working on is a very large square - at least 1000 inches on each side.\n",
    "\n",
    "Each Elf has made a claim about which area of fabric would be ideal for Santa's suit. All claims have an ID and consist of a single rectangle with edges parallel to the edges of the fabric. Each claim's rectangle is defined as follows:\n",
    "\n",
    "    The number of inches between the left edge of the fabric and the left edge of the rectangle.\n",
    "    The number of inches between the top edge of the fabric and the top edge of the rectangle.\n",
    "    The width of the rectangle in inches.\n",
    "    The height of the rectangle in inches.\n",
    "\n",
    "A claim like #123 @ 3,2: 5x4 means that claim ID 123 specifies a rectangle 3 inches from the left edge, 2 inches from the top edge, 5 inches wide, and 4 inches tall. Visually, it claims the square inches of fabric represented by # (and ignores the square inches of fabric represented by .) in the diagram below:\n",
    "\n",
    "    ...........\n",
    "    ...........\n",
    "    ...#####...\n",
    "    ...#####...\n",
    "    ...#####...\n",
    "    ...#####...\n",
    "    ...........\n",
    "    ...........\n",
    "    ...........\n",
    "\n",
    "The problem is that many of the claims overlap, causing two or more claims to cover part of the same areas. For example, consider the following claims:\n",
    "\n",
    "    #1 @ 1,3: 4x4\n",
    "    #2 @ 3,1: 4x4\n",
    "    #3 @ 5,5: 2x2\n",
    "\n",
    "Visually, these claim the following areas:\n",
    "\n",
    "    ........\n",
    "    ...2222.\n",
    "    ...2222.\n",
    "    .11XX22.\n",
    "    .11XX22.\n",
    "    .111133.\n",
    "    .111133.\n",
    "    ........\n",
    "\n",
    "The four square inches marked with X are claimed by both 1 and 2. (Claim 3, while adjacent to the others, does not overlap either of them.)\n",
    "\n",
    "If the Elves all proceed with their own plans, none of them will have enough fabric. How many square inches of fabric are within two or more claims?\n"
   ]
  },
  {
   "cell_type": "code",
   "execution_count": 13,
   "metadata": {},
   "outputs": [
    {
     "name": "stdout",
     "output_type": "stream",
     "text": [
      "116140\n"
     ]
    }
   ],
   "source": [
    "#question means, how many square inches of fabric have 2 or more claims on them?\n",
    "\n",
    "with open('3.txt', 'r') as f:\n",
    "    data = f.readlines()\n",
    "    \n",
    "data = [d.strip() for d in data]\n",
    "\n",
    "def get_params(x):\n",
    "    _, _, xy, wh = x.split(' ')\n",
    "    x, y = xy.split(',')\n",
    "    y = y[:-1]\n",
    "    w, h = wh.split('x')\n",
    "    x, y = int(x), int(y)\n",
    "    w, h = int(w), int(h)\n",
    "    return x, y, w, h\n",
    "\n",
    "from collections import defaultdict\n",
    "\n",
    "fabric = defaultdict(int)\n",
    "\n",
    "for d in data:\n",
    "    x, y, w, h = get_params(d)\n",
    "    for dx in range(w):\n",
    "        for dy in range(h):\n",
    "            fabric[(x+dx, y+dy)] += 1\n",
    "\n",
    "gt_1_claims = 0           \n",
    "for _, n_claims in fabric.items():\n",
    "    if n_claims > 1:\n",
    "        gt_1_claims += 1\n",
    "\n",
    "print(gt_1_claims)"
   ]
  },
  {
   "cell_type": "markdown",
   "metadata": {},
   "source": [
    "--- Part Two ---\n",
    "\n",
    "Amidst the chaos, you notice that exactly one claim doesn't overlap by even a single square inch of fabric with any other claim. If you can somehow draw attention to it, maybe the Elves will be able to make Santa's suit after all!\n",
    "\n",
    "For example, in the claims above, only claim 3 is intact after all claims are made.\n",
    "\n",
    "What is the ID of the only claim that doesn't overlap?\n"
   ]
  },
  {
   "cell_type": "code",
   "execution_count": 19,
   "metadata": {},
   "outputs": [
    {
     "name": "stdout",
     "output_type": "stream",
     "text": [
      "No overlap on #574\n"
     ]
    }
   ],
   "source": [
    "with open('3.txt', 'r') as f:\n",
    "    data = f.readlines()\n",
    "    \n",
    "data = [d.strip() for d in data]\n",
    "\n",
    "def get_params(x):\n",
    "    i, _, xy, wh = x.split(' ')\n",
    "    i = int(i[1:])\n",
    "    x, y = xy.split(',')\n",
    "    y = y[:-1]\n",
    "    w, h = wh.split('x')\n",
    "    x, y = int(x), int(y)\n",
    "    w, h = int(w), int(h)\n",
    "    return i, x, y, w, h\n",
    "\n",
    "from collections import defaultdict\n",
    "\n",
    "fabric = defaultdict(int)\n",
    "\n",
    "for d in data:\n",
    "    i, x, y, w, h = get_params(d)\n",
    "    for dx in range(w):\n",
    "        for dy in range(h):\n",
    "            fabric[(x+dx, y+dy)] += 1\n",
    "            \n",
    "for d in data:\n",
    "    i, x, y, w, h = get_params(d)\n",
    "    overlap = False\n",
    "    for dx in range(w):\n",
    "        for dy in range(h):\n",
    "            if fabric[(x+dx, y+dy)] > 1:\n",
    "                overlap = True\n",
    "    if overlap == False:\n",
    "        print(f'No overlap on #{i}')"
   ]
  }
 ],
 "metadata": {
  "kernelspec": {
   "display_name": "Python 3",
   "language": "python",
   "name": "python3"
  },
  "language_info": {
   "codemirror_mode": {
    "name": "ipython",
    "version": 3
   },
   "file_extension": ".py",
   "mimetype": "text/x-python",
   "name": "python",
   "nbconvert_exporter": "python",
   "pygments_lexer": "ipython3",
   "version": "3.7.0"
  }
 },
 "nbformat": 4,
 "nbformat_minor": 2
}
