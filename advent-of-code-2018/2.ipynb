{
 "cells": [
  {
   "cell_type": "markdown",
   "metadata": {},
   "source": [
    "--- Day 2: Inventory Management System ---\n",
    "\n",
    "You stop falling through time, catch your breath, and check the screen on the device. \"Destination reached. Current Year: 1518. Current Location: North Pole Utility Closet 83N10.\" You made it! Now, to find those anomalies.\n",
    "\n",
    "Outside the utility closet, you hear footsteps and a voice. \"...I'm not sure either. But now that so many people have chimneys, maybe he could sneak in that way?\" Another voice responds, \"Actually, we've been working on a new kind of suit that would let him fit through tight spaces like that. But, I heard that a few days ago, they lost the prototype fabric, the design plans, everything! Nobody on the team can even seem to remember important details of the project!\"\n",
    "\n",
    "\"Wouldn't they have had enough fabric to fill several boxes in the warehouse? They'd be stored together, so the box IDs should be similar. Too bad it would take forever to search the warehouse for two similar box IDs...\" They walk too far away to hear any more.\n",
    "\n",
    "Late at night, you sneak to the warehouse - who knows what kinds of paradoxes you could cause if you were discovered - and use your fancy wrist device to quickly scan every box and produce a list of the likely candidates (your puzzle input).\n",
    "\n",
    "To make sure you didn't miss any, you scan the likely candidate boxes again, counting the number that have an ID containing exactly two of any letter and then separately counting those with exactly three of any letter. You can multiply those two counts together to get a rudimentary checksum and compare it to what your device predicts.\n",
    "\n",
    "For example, if you see the following box IDs:\n",
    "\n",
    "    abcdef contains no letters that appear exactly two or three times.\n",
    "    bababc contains two a and three b, so it counts for both.\n",
    "    abbcde contains two b, but no letter appears exactly three times.\n",
    "    abcccd contains three c, but no letter appears exactly two times.\n",
    "    aabcdd contains two a and two d, but it only counts once.\n",
    "    abcdee contains two e.\n",
    "    ababab contains three a and three b, but it only counts once.\n",
    "\n",
    "Of these box IDs, four of them contain a letter which appears exactly twice, and three of them contain a letter which appears exactly three times. Multiplying these together produces a checksum of 4 * 3 = 12.\n",
    "\n",
    "What is the checksum for your list of box IDs?"
   ]
  },
  {
   "cell_type": "code",
   "execution_count": 5,
   "metadata": {},
   "outputs": [
    {
     "name": "stdout",
     "output_type": "stream",
     "text": [
      "247 ids have a letter which appears twice\n",
      "36 ids have a letter which appears thrice\n",
      "Therefore, checksum is 247 * 36 = 8892\n"
     ]
    }
   ],
   "source": [
    "with open('2.txt', 'r') as f:\n",
    "    ids = f.readlines()\n",
    "    \n",
    "ids = [i.strip() for i in ids]\n",
    "    \n",
    "from collections import Counter\n",
    "    \n",
    "appears_twice = 0\n",
    "appears_thrice = 0\n",
    "found_twice = False\n",
    "found_thrice = False\n",
    "    \n",
    "for i in ids:\n",
    "    found_twice = False\n",
    "    found_thrice = False\n",
    "    c = Counter()\n",
    "    c.update(i)\n",
    "    for k, v in c.items():\n",
    "        if v == 2 and found_twice == False:\n",
    "            appears_twice += 1\n",
    "            found_twice = True\n",
    "        if v == 3 and found_thrice == False:\n",
    "            appears_thrice += 1\n",
    "            found_thrice = True\n",
    "    \n",
    "print(f'{appears_twice} ids have a letter which appears twice')\n",
    "print(f'{appears_thrice} ids have a letter which appears thrice')\n",
    "print(f'Therefore, checksum is {appears_twice} * {appears_thrice} = {appears_twice*appears_thrice}')"
   ]
  },
  {
   "cell_type": "markdown",
   "metadata": {},
   "source": [
    "--- Part Two ---\n",
    "\n",
    "Confident that your list of box IDs is complete, you're ready to find the boxes full of prototype fabric.\n",
    "\n",
    "The boxes will have IDs which differ by exactly one character at the same position in both strings. For example, given the following box IDs:\n",
    "\n",
    "\n",
    "    abcde\n",
    "    fghij\n",
    "    klmno\n",
    "    pqrst\n",
    "    fguij\n",
    "    axcye\n",
    "    wvxyz\n",
    "\n",
    "\n",
    "The IDs `abcde` and `axcye` are close, but they differ by two characters (the second and fourth). However, the IDs `fghij` and `fguij` differ by exactly one character, the third (h and u). Those must be the correct boxes.\n",
    "\n",
    "What letters are common between the two correct box IDs? (In the example above, this is found by removing the differing character from either ID, producing `fgij`.)"
   ]
  },
  {
   "cell_type": "code",
   "execution_count": 19,
   "metadata": {},
   "outputs": [
    {
     "name": "stdout",
     "output_type": "stream",
     "text": [
      "Closest IDs:\n",
      "zihwtxagsifpbsnwleydukjmqv\n",
      "zihwtxagwifpbsnwleydukjmqv\n",
      "Matching letters:\n",
      "zihwtxagifpbsnwleydukjmqv\n"
     ]
    }
   ],
   "source": [
    "with open('2.txt', 'r') as f:\n",
    "    ids = f.readlines()\n",
    "    \n",
    "ids = [i.strip() for i in ids]\n",
    "\n",
    "def get_closest_ids(ids):\n",
    "    for i, id1 in enumerate(ids):\n",
    "        for j, id2 in enumerate(ids):\n",
    "            \n",
    "            if j == i:\n",
    "                continue\n",
    "\n",
    "            n_differences = 0\n",
    "            for c, d in zip(list(id1), list(id2)):\n",
    "                if c != d:\n",
    "                    n_differences += 1\n",
    "                    \n",
    "            if n_differences == 1:\n",
    "                return id1, id2\n",
    "\n",
    "def get_matching_letters(id1, id2):\n",
    "    return [c for c, d in zip(list(id1), list(id2)) if c == d]\n",
    "            \n",
    "    \n",
    "id1, id2 = get_closest_ids(ids)\n",
    "matching = get_matching_letters(id1, id2)\n",
    "\n",
    "print(f'Closest IDs:\\n{id1}\\n{id2}')\n",
    "\n",
    "print(f'Matching letters:\\n{\"\".join(matching)}')"
   ]
  }
 ],
 "metadata": {
  "kernelspec": {
   "display_name": "Python 3",
   "language": "python",
   "name": "python3"
  },
  "language_info": {
   "codemirror_mode": {
    "name": "ipython",
    "version": 3
   },
   "file_extension": ".py",
   "mimetype": "text/x-python",
   "name": "python",
   "nbconvert_exporter": "python",
   "pygments_lexer": "ipython3",
   "version": "3.7.0"
  }
 },
 "nbformat": 4,
 "nbformat_minor": 2
}
