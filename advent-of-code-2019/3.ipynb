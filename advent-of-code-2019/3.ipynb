{
 "cells": [
  {
   "cell_type": "markdown",
   "metadata": {},
   "source": [
    "Part 1"
   ]
  },
  {
   "cell_type": "code",
   "execution_count": 1,
   "metadata": {},
   "outputs": [],
   "source": [
    "with open('3.txt', 'r') as f:\n",
    "    wire_1, wire_2 = [x.split(',') for x in f.readlines()]"
   ]
  },
  {
   "cell_type": "code",
   "execution_count": 2,
   "metadata": {},
   "outputs": [],
   "source": [
    "def get_wire_path(wire):\n",
    "    \n",
    "    current_x = 0\n",
    "    current_y = 0\n",
    "    positions = []\n",
    "    \n",
    "    for w in wire:\n",
    "        \n",
    "        direction = w[0]\n",
    "        distance = int(w[1:])\n",
    "        \n",
    "        if direction == 'R':\n",
    "            for i in range(1, distance + 1):\n",
    "                current_x += 1\n",
    "                positions.append((current_x, current_y))\n",
    "                \n",
    "        elif direction == 'L':\n",
    "            for i in range(1, distance + 1):\n",
    "                current_x -= 1\n",
    "                positions.append((current_x, current_y))\n",
    "                \n",
    "        elif direction == 'U':\n",
    "            for i in range(1, distance + 1):\n",
    "                current_y += 1\n",
    "                positions.append((current_x, current_y))\n",
    "                \n",
    "        elif direction == 'D':\n",
    "            for i in range(1, distance + 1):\n",
    "                current_y -= 1\n",
    "                positions.append((current_x, current_y))\n",
    "                \n",
    "        else:\n",
    "            print(f'Got {direction}')\n",
    "            raise ValueError\n",
    "            \n",
    "    return positions"
   ]
  },
  {
   "cell_type": "code",
   "execution_count": 3,
   "metadata": {},
   "outputs": [],
   "source": [
    "path_1 = get_wire_path(wire_1)\n",
    "path_2 = get_wire_path(wire_2)"
   ]
  },
  {
   "cell_type": "code",
   "execution_count": 4,
   "metadata": {},
   "outputs": [],
   "source": [
    "def find_intersections(path_1, path_2):\n",
    "        \n",
    "    path_1 = set(path_1)\n",
    "    path_2 = set(path_2)\n",
    "    \n",
    "    intersections = path_1.intersection(path_2)\n",
    "    \n",
    "    return intersections"
   ]
  },
  {
   "cell_type": "code",
   "execution_count": 5,
   "metadata": {},
   "outputs": [
    {
     "name": "stdout",
     "output_type": "stream",
     "text": [
      "{(2171, 448), (412, 592), (1138, 1029), (629, 183), (-991, -434), (1138, 804), (154, -228), (842, 597), (1643, 1210), (-845, -61), (783, 804), (2177, 448), (2122, 323), (1053, -613), (227, 485), (-991, -253), (2171, 1025), (227, 803), (629, 0), (2288, 900), (842, 804), (1318, -356), (783, 597), (486, 0), (1431, -382), (1060, 1133), (738, 183), (293, 436), (278, 1577), (-414, -253), (1318, -382), (-995, -253), (-995, -434), (1706, -577), (896, 373), (815, -173), (-4, -228), (815, 0), (227, 769), (738, 436), (213, 803), (227, 446), (1888, 1355), (857, -613), (1539, -292), (486, 183), (472, 183), (896, 100), (1539, -144), (1683, 301), (629, -173), (-995, -655), (738, 592), (-991, -61), (1196, 705), (815, 183), (227, 566), (961, 183), (1431, -356), (213, 769), (-414, -417), (154, -160), (-688, -227), (783, 1076), (-480, -666), (-688, -224), (896, 101), (1104, 373), (-669, -666), (1104, 340), (-1158, -655), (1060, 1666), (815, -443), (472, 436)}\n"
     ]
    }
   ],
   "source": [
    "intersections = find_intersections(path_1, path_2)\n",
    "\n",
    "print(intersections)"
   ]
  },
  {
   "cell_type": "code",
   "execution_count": 6,
   "metadata": {},
   "outputs": [],
   "source": [
    "def find_closest_intersection(intersections):\n",
    "    \n",
    "    closest_distance = float('inf')\n",
    "    closest_intersection = None\n",
    "    \n",
    "    for i_x, i_y in intersections:\n",
    "        \n",
    "        distance = abs(i_x) + abs(i_y)\n",
    "        \n",
    "        if distance < closest_distance:\n",
    "            closest_distance = distance\n",
    "            closest_intersection = (i_x, i_y)\n",
    "    \n",
    "    return closest_intersection, closest_distance"
   ]
  },
  {
   "cell_type": "code",
   "execution_count": 7,
   "metadata": {},
   "outputs": [
    {
     "data": {
      "text/plain": [
       "((-4, -228), 232)"
      ]
     },
     "execution_count": 7,
     "metadata": {},
     "output_type": "execute_result"
    }
   ],
   "source": [
    "find_closest_intersection(intersections)"
   ]
  },
  {
   "cell_type": "markdown",
   "metadata": {},
   "source": [
    "Part 2"
   ]
  },
  {
   "cell_type": "code",
   "execution_count": 8,
   "metadata": {},
   "outputs": [],
   "source": [
    "def find_intersection_steps(path, intersections):\n",
    "    \n",
    "    intersection_steps = []\n",
    "    \n",
    "    for i, p in enumerate(path, 1):\n",
    "        \n",
    "        if p in intersections:\n",
    "            \n",
    "            intersection_steps.append((i, p))\n",
    "            \n",
    "    return intersection_steps"
   ]
  },
  {
   "cell_type": "code",
   "execution_count": 9,
   "metadata": {},
   "outputs": [],
   "source": [
    "from collections import defaultdict\n",
    "\n",
    "def find_intersection_steps(path, intersections):\n",
    "    \n",
    "    steps_dict = defaultdict(dict)\n",
    "    \n",
    "    for i, (p_x, p_y) in enumerate(path, 1):\n",
    "        \n",
    "        if (p_x, p_y) in intersections:\n",
    "            \n",
    "            steps_dict[p_x][p_y] = i\n",
    "    \n",
    "    return steps_dict"
   ]
  },
  {
   "cell_type": "code",
   "execution_count": 10,
   "metadata": {},
   "outputs": [
    {
     "name": "stdout",
     "output_type": "stream",
     "text": [
      "defaultdict(<class 'dict'>, {486: {0: 486, 183: 35143}, 629: {0: 629, -173: 19140, 183: 35286}, 815: {0: 815, -443: 1622, -173: 19326, 183: 35472}, -414: {-253: 4543, -417: 11197}, -991: {-253: 5120, -61: 7226, -434: 8517}, -995: {-253: 5124, -655: 6022, -434: 8513}, -1158: {-655: 5859}, -688: {-227: 6757, -224: 6760}, -845: {-61: 7080}, -669: {-666: 9071}, -480: {-666: 11512}, -4: {-228: 18452}, 857: {-613: 19808}, 1706: {-577: 20787}, 1431: {-356: 21283, -382: 40051}, 1318: {-356: 21396, -382: 40164}, 1053: {-613: 21918}, 154: {-228: 34400, -160: 34468}, 472: {183: 35129, 436: 45932}, 738: {183: 35395, 592: 41718, 436: 45666}, 961: {183: 35618}, 1104: {340: 35918, 373: 35951}, 1196: {705: 36375}, 2171: {1025: 37670, 448: 38481}, 2288: {900: 37912}, 2177: {448: 38475}, 2122: {323: 38655}, 1683: {301: 39116}, 1539: {-144: 39705, -292: 39853}, 896: {100: 41068, 101: 41069, 373: 41341}, 412: {592: 42044}, 213: {769: 42420, 803: 42454}, 278: {1577: 43293}, 783: {1076: 44981, 804: 45253, 597: 45460}, 293: {436: 46111}, 227: {446: 46187, 485: 46226, 566: 46307, 769: 46510, 803: 46544}, 842: {804: 47572, 597: 47779}, 1138: {804: 48312, 1029: 48537}, 1060: {1133: 48719, 1666: 50000}, 1643: {1210: 53637}, 1888: {1355: 54027}})\n",
      "\n",
      "defaultdict(<class 'dict'>, {-991: {-61: 1052, -253: 1244, -434: 1425}, -1158: {-655: 1813}, -669: {-666: 3777}, -480: {-666: 3966}, -414: {-417: 4281, -253: 4445}, 154: {-160: 5106, -228: 33238}, 486: {0: 5598, 183: 5781}, 815: {183: 6122, 0: 6305, -173: 6478, -443: 6748}, 857: {-613: 6960}, 1053: {-613: 7156}, 1431: {-382: 7765, -356: 7791}, 1539: {-292: 7963, -144: 29273}, 1683: {301: 8700}, 2122: {323: 9161}, 2177: {448: 9341}, 2288: {900: 9904}, 2171: {448: 11873, 1025: 12450}, 1888: {1355: 13063}, 1643: {1210: 13453}, 1138: {1029: 14139, 804: 27924}, 842: {597: 14867, 804: 27628}, 783: {597: 14926, 804: 27569, 1076: 48435}, 227: {803: 15688, 446: 17587, 769: 21186, 566: 22229, 485: 26694}, 213: {803: 15702, 769: 21200}, 472: {436: 17842, 183: 18095}, 896: {100: 18602, 101: 19665, 373: 31895}, 1104: {340: 19218, 373: 31687}, 961: {183: 19518}, 738: {183: 19905, 436: 20158, 592: 20314}, 293: {436: 22033}, -688: {-224: 23934, -227: 72825}, -845: {-61: 24254}, 412: {592: 26986}, 1196: {705: 28081}, 1706: {-577: 30135}, 1318: {-382: 30718, -356: 30744}, 629: {183: 32352, 0: 32535, -173: 32708}, -4: {-228: 33396}, 278: {1577: 47429}, 1060: {1133: 48769, 1666: 49302}, -995: {-253: 73158, -434: 73339, -655: 73560}})\n"
     ]
    }
   ],
   "source": [
    "path_1_steps_dict = find_intersection_steps(path_1, intersections)\n",
    "path_2_steps_dict = find_intersection_steps(path_2, intersections)\n",
    "\n",
    "print(path_1_steps_dict)\n",
    "print()\n",
    "print(path_2_steps_dict)"
   ]
  },
  {
   "cell_type": "code",
   "execution_count": 11,
   "metadata": {},
   "outputs": [],
   "source": [
    "def find_closest_intersection_steps(path_1_steps_dict, \n",
    "                                    path_2_steps_dict,\n",
    "                                    intersections):\n",
    "    \n",
    "    smallest_steps = float('inf')\n",
    "    \n",
    "    for x, y in intersections:\n",
    "        \n",
    "        path_1_steps = path_1_steps_dict[x][y]\n",
    "        path_2_steps = path_2_steps_dict[x][y]\n",
    "        \n",
    "        combined_steps = path_1_steps + path_2_steps\n",
    "        \n",
    "        if combined_steps < smallest_steps:\n",
    "            \n",
    "            smallest_steps = combined_steps\n",
    "            smallest_steps_intersection = x, y\n",
    "        \n",
    "    return smallest_steps_intersection, smallest_steps "
   ]
  },
  {
   "cell_type": "code",
   "execution_count": 12,
   "metadata": {},
   "outputs": [
    {
     "data": {
      "text/plain": [
       "((486, 0), 6084)"
      ]
     },
     "execution_count": 12,
     "metadata": {},
     "output_type": "execute_result"
    }
   ],
   "source": [
    "find_closest_intersection_steps(path_1_steps_dict,\n",
    "                                path_2_steps_dict,\n",
    "                                intersections)"
   ]
  }
 ],
 "metadata": {
  "kernelspec": {
   "display_name": "Python 3",
   "language": "python",
   "name": "python3"
  },
  "language_info": {
   "codemirror_mode": {
    "name": "ipython",
    "version": 3
   },
   "file_extension": ".py",
   "mimetype": "text/x-python",
   "name": "python",
   "nbconvert_exporter": "python",
   "pygments_lexer": "ipython3",
   "version": "3.7.0"
  }
 },
 "nbformat": 4,
 "nbformat_minor": 2
}
