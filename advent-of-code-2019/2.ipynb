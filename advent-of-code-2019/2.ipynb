{
 "cells": [
  {
   "cell_type": "markdown",
   "metadata": {},
   "source": [
    "Part 1"
   ]
  },
  {
   "cell_type": "code",
   "execution_count": 1,
   "metadata": {},
   "outputs": [
    {
     "name": "stdout",
     "output_type": "stream",
     "text": [
      "[1, 0, 0, 3, 1, 1, 2, 3, 1, 3, 4, 3, 1, 5, 0, 3, 2, 13, 1, 19, 1, 19, 10, 23, 1, 23, 6, 27, 1, 6, 27, 31, 1, 13, 31, 35, 1, 13, 35, 39, 1, 39, 13, 43, 2, 43, 9, 47, 2, 6, 47, 51, 1, 51, 9, 55, 1, 55, 9, 59, 1, 59, 6, 63, 1, 9, 63, 67, 2, 67, 10, 71, 2, 71, 13, 75, 1, 10, 75, 79, 2, 10, 79, 83, 1, 83, 6, 87, 2, 87, 10, 91, 1, 91, 6, 95, 1, 95, 13, 99, 1, 99, 13, 103, 2, 103, 9, 107, 2, 107, 10, 111, 1, 5, 111, 115, 2, 115, 9, 119, 1, 5, 119, 123, 1, 123, 9, 127, 1, 127, 2, 131, 1, 5, 131, 0, 99, 2, 0, 14, 0]\n"
     ]
    }
   ],
   "source": [
    "with open('2.txt', 'r') as f:\n",
    "    intcode = f.read()\n",
    "        \n",
    "intcode = [int(i.strip()) for i in intcode.split(',')]\n",
    "\n",
    "print(intcode)"
   ]
  },
  {
   "cell_type": "code",
   "execution_count": 2,
   "metadata": {},
   "outputs": [],
   "source": [
    "def read_intcode(intcode):\n",
    "    \n",
    "    ip = 0\n",
    "\n",
    "    while True:\n",
    "        \n",
    "        #read intcode\n",
    "        op = intcode[ip]\n",
    "        \n",
    "        if op == 1:\n",
    "            \n",
    "            add_1_loc = intcode[ip+1]\n",
    "            add_2_loc = intcode[ip+2]\n",
    "            res_loc = intcode[ip+3]\n",
    "                        \n",
    "            add_1 = intcode[add_1_loc]\n",
    "            add_2 = intcode[add_2_loc]\n",
    "                        \n",
    "            res = add_1 + add_2\n",
    "                        \n",
    "            intcode[res_loc] = res\n",
    "            \n",
    "            ip += 4\n",
    "            \n",
    "        elif op == 2:\n",
    "            \n",
    "            mul_1_loc = intcode[ip+1]\n",
    "            mul_2_loc = intcode[ip+2]\n",
    "            res_loc = intcode[ip+3]\n",
    "                        \n",
    "            mul_1 = intcode[mul_1_loc]\n",
    "            mul_2 = intcode[mul_2_loc]\n",
    "                        \n",
    "            res = mul_1 * mul_2\n",
    "            \n",
    "            intcode[res_loc] = res\n",
    "            \n",
    "            ip += 4\n",
    "            \n",
    "        elif op == 99:\n",
    "            return intcode\n",
    "        \n",
    "        else:\n",
    "            ip += 1"
   ]
  },
  {
   "cell_type": "code",
   "execution_count": 3,
   "metadata": {},
   "outputs": [],
   "source": [
    "intcode[1] = 12\n",
    "intcode[2] = 2\n",
    "\n",
    "intcode = read_intcode(intcode)"
   ]
  },
  {
   "cell_type": "code",
   "execution_count": 4,
   "metadata": {},
   "outputs": [
    {
     "name": "stdout",
     "output_type": "stream",
     "text": [
      "5866714\n"
     ]
    }
   ],
   "source": [
    "print(intcode[0])"
   ]
  },
  {
   "cell_type": "markdown",
   "metadata": {},
   "source": [
    "Part 2"
   ]
  },
  {
   "cell_type": "code",
   "execution_count": 5,
   "metadata": {},
   "outputs": [
    {
     "name": "stdout",
     "output_type": "stream",
     "text": [
      "[1, 0, 0, 3, 1, 1, 2, 3, 1, 3, 4, 3, 1, 5, 0, 3, 2, 13, 1, 19, 1, 19, 10, 23, 1, 23, 6, 27, 1, 6, 27, 31, 1, 13, 31, 35, 1, 13, 35, 39, 1, 39, 13, 43, 2, 43, 9, 47, 2, 6, 47, 51, 1, 51, 9, 55, 1, 55, 9, 59, 1, 59, 6, 63, 1, 9, 63, 67, 2, 67, 10, 71, 2, 71, 13, 75, 1, 10, 75, 79, 2, 10, 79, 83, 1, 83, 6, 87, 2, 87, 10, 91, 1, 91, 6, 95, 1, 95, 13, 99, 1, 99, 13, 103, 2, 103, 9, 107, 2, 107, 10, 111, 1, 5, 111, 115, 2, 115, 9, 119, 1, 5, 119, 123, 1, 123, 9, 127, 1, 127, 2, 131, 1, 5, 131, 0, 99, 2, 0, 14, 0]\n"
     ]
    }
   ],
   "source": [
    "with open('2.txt', 'r') as f:\n",
    "    intcode = f.read()\n",
    "        \n",
    "intcode = [int(i.strip()) for i in intcode.split(',')]\n",
    "\n",
    "print(intcode)"
   ]
  },
  {
   "cell_type": "code",
   "execution_count": 13,
   "metadata": {},
   "outputs": [],
   "source": [
    "def find_n_v(intcode):\n",
    "    for n in range(0, 100):\n",
    "        for v in range(0, 100):\n",
    "            try:\n",
    "                mod_intcode = intcode[:]\n",
    "                mod_intcode[1] = n\n",
    "                mod_intcode[2] = v\n",
    "                res_intcode = read_intcode(mod_intcode)\n",
    "                if res_intcode[0] == 19690720:\n",
    "                    return n, v\n",
    "            except IndexError:\n",
    "                pass"
   ]
  },
  {
   "cell_type": "code",
   "execution_count": 14,
   "metadata": {},
   "outputs": [
    {
     "name": "stdout",
     "output_type": "stream",
     "text": [
      "52 8\n"
     ]
    }
   ],
   "source": [
    "n, v = find_n_v(intcode)\n",
    "\n",
    "print(n, v)"
   ]
  },
  {
   "cell_type": "code",
   "execution_count": 15,
   "metadata": {},
   "outputs": [
    {
     "name": "stdout",
     "output_type": "stream",
     "text": [
      "5208\n"
     ]
    }
   ],
   "source": [
    "print(100 * n + v)"
   ]
  }
 ],
 "metadata": {
  "kernelspec": {
   "display_name": "Python 3",
   "language": "python",
   "name": "python3"
  },
  "language_info": {
   "codemirror_mode": {
    "name": "ipython",
    "version": 3
   },
   "file_extension": ".py",
   "mimetype": "text/x-python",
   "name": "python",
   "nbconvert_exporter": "python",
   "pygments_lexer": "ipython3",
   "version": "3.7.0"
  }
 },
 "nbformat": 4,
 "nbformat_minor": 2
}
