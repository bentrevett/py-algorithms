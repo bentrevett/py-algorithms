{
 "cells": [
  {
   "cell_type": "markdown",
   "metadata": {},
   "source": [
    "The prime factors of 13195 are 5, 7, 13 and 29.\n",
    "\n",
    "What is the largest prime factor of the number 600851475143?"
   ]
  },
  {
   "cell_type": "markdown",
   "metadata": {},
   "source": [
    "\"every integer greater than 1 either is a prime number itself or can be represented as the product of prime numbers\"\n",
    "\n",
    "Using 13195 as an example:\n",
    "- `n = 13195`\n",
    "- `x` is initialized to `2`\n",
    "- Does `13195` divide by `2` (with no remainder)? \n",
    "- No, so increase `x`\n",
    "- Keep increasing until we hit `5`\n",
    "- `13195/5 = 2639`\n",
    "- `n` is now `2639`\n",
    "- Our largest prime factor (that we've found so far) is `5`\n",
    "- Repeat\n",
    "- `2639/7 = 377`\n",
    "- `377/13 = 29`\n",
    "- However, `13^2` is greater than `29`, but `29` is a prime number, hence the last `if` check"
   ]
  },
  {
   "cell_type": "code",
   "execution_count": 4,
   "metadata": {},
   "outputs": [],
   "source": [
    "def largest_prime(n):\n",
    "    largest = 0\n",
    "    x = 2\n",
    "    while (x**2 <= n):\n",
    "        if (n % x == 0):\n",
    "            n /= x\n",
    "            largest = x\n",
    "        else:\n",
    "            x += 1\n",
    "            \n",
    "    if n > largest:\n",
    "        largest = n\n",
    "    \n",
    "    return largest"
   ]
  },
  {
   "cell_type": "code",
   "execution_count": 5,
   "metadata": {},
   "outputs": [
    {
     "data": {
      "text/plain": [
       "6857.0"
      ]
     },
     "execution_count": 5,
     "metadata": {},
     "output_type": "execute_result"
    }
   ],
   "source": [
    "largest_prime(600851475143)"
   ]
  }
 ],
 "metadata": {
  "kernelspec": {
   "display_name": "Python 3",
   "language": "python",
   "name": "python3"
  },
  "language_info": {
   "codemirror_mode": {
    "name": "ipython",
    "version": 3
   },
   "file_extension": ".py",
   "mimetype": "text/x-python",
   "name": "python",
   "nbconvert_exporter": "python",
   "pygments_lexer": "ipython3",
   "version": "3.6.3"
  }
 },
 "nbformat": 4,
 "nbformat_minor": 2
}
