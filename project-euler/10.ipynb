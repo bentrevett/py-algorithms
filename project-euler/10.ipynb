{
 "cells": [
  {
   "cell_type": "markdown",
   "metadata": {},
   "source": [
    "The sum of the primes below $10$ is $2 + 3 + 5 + 7 = 17$.\n",
    "\n",
    "Find the sum of all the primes below two million."
   ]
  },
  {
   "cell_type": "code",
   "execution_count": 20,
   "metadata": {},
   "outputs": [],
   "source": [
    "def sum_sieve(limit):\n",
    "    sum_primes = 0\n",
    "    primes = [True] * limit\n",
    "    primes[0], primes[1] = False, False\n",
    "    for p in range(2, limit):\n",
    "        if primes[p]:\n",
    "            sum_primes += p\n",
    "            for i in range(2*p, limit, p):\n",
    "                primes[i] = False\n",
    "    return sum_primes"
   ]
  },
  {
   "cell_type": "code",
   "execution_count": 21,
   "metadata": {},
   "outputs": [
    {
     "data": {
      "text/plain": [
       "142913828922"
      ]
     },
     "execution_count": 21,
     "metadata": {},
     "output_type": "execute_result"
    }
   ],
   "source": [
    "sum_primes(2_000_000)"
   ]
  }
 ],
 "metadata": {
  "kernelspec": {
   "display_name": "Python 3",
   "language": "python",
   "name": "python3"
  },
  "language_info": {
   "codemirror_mode": {
    "name": "ipython",
    "version": 3
   },
   "file_extension": ".py",
   "mimetype": "text/x-python",
   "name": "python",
   "nbconvert_exporter": "python",
   "pygments_lexer": "ipython3",
   "version": "3.6.5"
  }
 },
 "nbformat": 4,
 "nbformat_minor": 2
}
