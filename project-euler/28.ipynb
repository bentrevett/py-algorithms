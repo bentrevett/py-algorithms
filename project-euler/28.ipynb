{
 "cells": [
  {
   "cell_type": "markdown",
   "metadata": {},
   "source": [
    "Starting with the number 1 and moving to the right in a clockwise direction a 5 by 5 spiral is formed as follows:\n",
    "\n",
    "21 22 23 24 25\n",
    "\n",
    "20  7  8  9 10\n",
    "\n",
    "19  6  1  2 11\n",
    "\n",
    "18  5  4  3 12\n",
    "\n",
    "17 16 15 14 13\n",
    "\n",
    "It can be verified that the sum of the numbers on the diagonals is 101.\n",
    "\n",
    "What is the sum of the numbers on the diagonals in a 1001 by 1001 spiral formed in the same way?"
   ]
  },
  {
   "cell_type": "code",
   "execution_count": 3,
   "metadata": {},
   "outputs": [],
   "source": [
    "def spiral(n):\n",
    "    tr = 0\n",
    "    tl = 0\n",
    "    bl = 0\n",
    "    br = 0\n",
    "    \n",
    "    while n > 1:\n",
    "    \n",
    "        _tr = n**2\n",
    "        _tl = _tr - (n-1)\n",
    "        _bl = _tl - (n-1)\n",
    "        _br = _bl - (n-1)\n",
    "        \n",
    "        tr += _tr\n",
    "        tl += _tl\n",
    "        bl += _bl\n",
    "        br += _br\n",
    "        \n",
    "        n -= 2\n",
    "        \n",
    "    return tr + tl + bl + br + 1"
   ]
  }
 ],
 "metadata": {
  "kernelspec": {
   "display_name": "Python 3",
   "language": "python",
   "name": "python3"
  },
  "language_info": {
   "codemirror_mode": {
    "name": "ipython",
    "version": 3
   },
   "file_extension": ".py",
   "mimetype": "text/x-python",
   "name": "python",
   "nbconvert_exporter": "python",
   "pygments_lexer": "ipython3",
   "version": "3.6.3"
  }
 },
 "nbformat": 4,
 "nbformat_minor": 2
}
