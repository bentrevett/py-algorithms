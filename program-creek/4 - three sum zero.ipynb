{
 "cells": [
  {
   "cell_type": "markdown",
   "metadata": {},
   "source": [
    "- Given an array $S$ of $n$ integers, are there elements $a$, $b$, $c$ in $S$ such that $a+b+c=0$?\n",
    "- Find all unique triplets in the array which gives a sum of zero.\n",
    "- Note: elements in the triplet must be in non-descending order.\n",
    "- The solution set must not contain duplicate triplets.\n",
    "\n",
    "__Example__\n",
    "- S = [-1, 0, 1, 2, -1, -4] \n",
    "- Answer = ([-1, 0, 1], [-1, -1, 2])"
   ]
  },
  {
   "cell_type": "code",
   "execution_count": 1,
   "metadata": {},
   "outputs": [],
   "source": [
    "from typing import Tuple\n",
    "\n",
    "def three_sum_zero(numbers: list) -> list:\n",
    "    \"\"\"\n",
    "    Use two pointers method. \n",
    "    Take advantage of sorted arrays to help avoid duplicates.\n",
    "    \"\"\"\n",
    "    \n",
    "    result = []\n",
    "    \n",
    "    if not numbers or len(numbers)<3:\n",
    "        return result\n",
    "    \n",
    "    numbers = sorted(numbers)\n",
    "        \n",
    "    for i in range(len(numbers)-2):\n",
    "        \n",
    "        #always does on first loop, subsequent loops only if number has actually increased\n",
    "        #i.e. if list starts with something like [-1, -1, -1, ...], don't need to check all of them\n",
    "        if i==0 or numbers[i] > numbers[i-1]: \n",
    "            j = i + 1 #pointing to \"start\" of list, but ahead of number[i]\n",
    "            k = len(numbers) - 1 #pointing at \"end\" of list\n",
    "            \n",
    "            while j < k: #until the pointers meet, do this while\n",
    "                         \n",
    "                x = numbers[i] + numbers[j] + numbers[k]\n",
    "                    \n",
    "                if x == 0: #if the sum is equal to zero, found a three sum!\n",
    "\n",
    "                    result.append([numbers[i],numbers[j],numbers[k]])\n",
    "                    \n",
    "                    j += 1 #move the pointers\n",
    "                    k -= 1\n",
    "                    \n",
    "                    #keep increasing the value of the \"start\" and \"end\" pointers\n",
    "                    #until the values at them actually change\n",
    "                    while j < k and numbers[j] == numbers[j-1]:  \n",
    "                        j += 1\n",
    "                    while j < k and numbers[k] == numbers[k+1]:\n",
    "                        k -= 1\n",
    "                \n",
    "                #if the sum of the values are less than zero, increase the \"start\" pointer\n",
    "                elif x < 0:\n",
    "                    j += 1\n",
    "                \n",
    "                #if the sum of the values are greater than zero, deccrease the \"end\" pointer\n",
    "                else:\n",
    "                    k -= 1\n",
    "    \n",
    "    return result"
   ]
  },
  {
   "cell_type": "code",
   "execution_count": 2,
   "metadata": {},
   "outputs": [],
   "source": [
    "S = [-1, 0, 1, 2, -1, 4]\n",
    "\n",
    "assert three_sum_zero(S) == [[-1, -1, 2], [-1, 0, 1]]"
   ]
  }
 ],
 "metadata": {
  "kernelspec": {
   "display_name": "Python 3",
   "language": "python",
   "name": "python3"
  },
  "language_info": {
   "codemirror_mode": {
    "name": "ipython",
    "version": 3
   },
   "file_extension": ".py",
   "mimetype": "text/x-python",
   "name": "python",
   "nbconvert_exporter": "python",
   "pygments_lexer": "ipython3",
   "version": "3.6.3"
  }
 },
 "nbformat": 4,
 "nbformat_minor": 2
}
