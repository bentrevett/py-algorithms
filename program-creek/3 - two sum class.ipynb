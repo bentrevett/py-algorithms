{
 "cells": [
  {
   "cell_type": "markdown",
   "metadata": {},
   "source": [
    "- Similar to the previous problem (take an array of ints and return the indices of the two which sum to a desired value)\n",
    "- Now it must be a class with two methods: add and find\n",
    "- `add` adds a number to an internal data structure\n",
    "- `find` finds if there exists a pair of numbers which sum to equal the value\n",
    "- `find` returns `True` or `False`, not the indices. "
   ]
  },
  {
   "cell_type": "code",
   "execution_count": 1,
   "metadata": {},
   "outputs": [],
   "source": [
    "class TwoSum:\n",
    "    \"\"\"\n",
    "    Stores numbers with their count in the elements hash map.\n",
    "    When using find each element used to find the target.\n",
    "    Check if the target is within the hash map.\n",
    "    If it is, and the target is the same as the current element,\n",
    "    i.e. n = 14, i = 7, target = 7, then make sure more than\n",
    "    one of that element exists in the hash map.\n",
    "    \"\"\"\n",
    "    def __init__(self):\n",
    "        self.elements = {} #k = number, v = count\n",
    "        \n",
    "    def add(self, n: int) -> None:\n",
    "        if n in self.elements.keys():\n",
    "            self.elements[n] += 1\n",
    "        else:\n",
    "            self.elements[n] = 1\n",
    "    \n",
    "    def find(self, n: int) -> bool:\n",
    "        for i in self.elements.keys():\n",
    "            target = n - i\n",
    "            if target in self.elements.keys():\n",
    "                if i == target and self.elements[target] < 2:\n",
    "                    continue\n",
    "                return True\n",
    "        return False"
   ]
  },
  {
   "cell_type": "code",
   "execution_count": 2,
   "metadata": {},
   "outputs": [],
   "source": [
    "two_sum = TwoSum()\n",
    "two_sum.add(4)\n",
    "two_sum.add(9)\n",
    "two_sum.add(6)\n",
    "two_sum.add(5)\n",
    "assert two_sum.find(14) == True\n",
    "assert two_sum.find(9) == True\n",
    "assert two_sum.find(16) == False\n",
    "assert two_sum.find(4) == False"
   ]
  }
 ],
 "metadata": {
  "kernelspec": {
   "display_name": "Python 3",
   "language": "python",
   "name": "python3"
  },
  "language_info": {
   "codemirror_mode": {
    "name": "ipython",
    "version": 3
   },
   "file_extension": ".py",
   "mimetype": "text/x-python",
   "name": "python",
   "nbconvert_exporter": "python",
   "pygments_lexer": "ipython3",
   "version": "3.6.3"
  }
 },
 "nbformat": 4,
 "nbformat_minor": 2
}
