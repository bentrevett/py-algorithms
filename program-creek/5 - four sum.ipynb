{
 "cells": [
  {
   "cell_type": "markdown",
   "metadata": {},
   "source": [
    "- Given an array of $S$ integers, are there elements $a$, $b$, $c$ and $d$ in $S$ such that $a+b+c+d=t$, where $t$ is the target.\n",
    "- Find all unique quadruplets in the array which gives the sum of the target.\n",
    "- Note: elements in a quadruplet $(a,b,c,d)$ must be in a non-descending order.\n",
    "- The solution set must not contain duplicate quadruplets.\n",
    "\n",
    "__Example__\n",
    "- S = [1, 0, -1, 0, -2, 2]\n",
    "- t = 0\n",
    "- Answer: [[-1, 0, 0, 1], [-2, -1, 1, 2], [-2, 0, 0, 2]]"
   ]
  },
  {
   "cell_type": "code",
   "execution_count": 1,
   "metadata": {},
   "outputs": [],
   "source": [
    "def four_sum(numbers: list, target: int) -> list:\n",
    "    \n",
    "    result = []\n",
    "    \n",
    "    #don't want to handle empty lists and those with less than 4 numbers\n",
    "    if not numbers and len(numbers) < 4:\n",
    "        return result\n",
    "    \n",
    "    #use the pointer method when sorting\n",
    "    numbers = sorted(numbers)\n",
    "    \n",
    "    #i is the \"start\" pointer\n",
    "    for i in range(len(numbers)-3):\n",
    "        \n",
    "        #always do the first number\n",
    "        #if not doing the first number, skip duplicates\n",
    "        if i != 0 and numbers[i] == numbers[i-1]:\n",
    "            continue\n",
    "            \n",
    "        #j is a \"second start\" pointer\n",
    "        for j in range(i+1, len(numbers)-2):\n",
    "            \n",
    "            #always do the second number\n",
    "            #if not doing the second, skip duplicates\n",
    "            if j != i+1 and numbers[j] == numbers[j-1]:\n",
    "                continue\n",
    "                \n",
    "            #k and j are the \"search start\" and \"search end\" pointers\n",
    "            k = j + 1\n",
    "            l = len(numbers)-1\n",
    "            \n",
    "            while k < l: #the standard search method here\n",
    "                                \n",
    "                x = numbers[i] + numbers[j] + numbers[k] + numbers[l]\n",
    "                \n",
    "                #if lower than the target, increase the \"search start\" pointer\n",
    "                if x < target:\n",
    "                    k += 1\n",
    "                \n",
    "                #if higher than the target, decrease the \"search end\" pointer\n",
    "                elif x > target:\n",
    "                    l -= 1\n",
    "                    \n",
    "                else:\n",
    "                    \n",
    "                    #if we find a result, append it\n",
    "                    result.append([numbers[i],numbers[j],numbers[k],numbers[l]])\n",
    "                    \n",
    "                    #move the pointers\n",
    "                    k += 1\n",
    "                    l -= 1\n",
    "                    \n",
    "                    #while still valid pointers, make sure we ignore duplicates\n",
    "                    while k < l and numbers[l] == numbers[l+1]:\n",
    "                        l -= 1\n",
    "                        \n",
    "                    while k < l and numbers[k] == numbers[k-1]:\n",
    "                        k += 1\n",
    "        \n",
    "    return result"
   ]
  },
  {
   "cell_type": "code",
   "execution_count": 2,
   "metadata": {},
   "outputs": [
    {
     "data": {
      "text/plain": [
       "[[-2, -1, 1, 2], [-2, 0, 0, 2], [-1, 0, 0, 1]]"
      ]
     },
     "execution_count": 2,
     "metadata": {},
     "output_type": "execute_result"
    }
   ],
   "source": [
    "S = [1, 0, -1, 0, -2, 2]\n",
    "\n",
    "four_sum(S, 0)"
   ]
  }
 ],
 "metadata": {
  "kernelspec": {
   "display_name": "Python 3",
   "language": "python",
   "name": "python3"
  },
  "language_info": {
   "codemirror_mode": {
    "name": "ipython",
    "version": 3
   },
   "file_extension": ".py",
   "mimetype": "text/x-python",
   "name": "python",
   "nbconvert_exporter": "python",
   "pygments_lexer": "ipython3",
   "version": "3.6.3"
  }
 },
 "nbformat": 4,
 "nbformat_minor": 2
}
