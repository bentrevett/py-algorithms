{
 "cells": [
  {
   "cell_type": "markdown",
   "metadata": {},
   "source": [
    "- Given an array of integers, find two numbers such that they add up to a specific target number.\n",
    "- The function should return indices of the two numbers such that they add up to the target.\n",
    "- index1 must be less than index2.\n",
    "\n",
    "__Example__:\n",
    "- Input: numbers=[2,7,11,15], target=9\n",
    "- Output: index1=0, index2=1"
   ]
  },
  {
   "cell_type": "code",
   "execution_count": 22,
   "metadata": {},
   "outputs": [],
   "source": [
    "from typing import Tuple\n",
    "\n",
    "def two_sum(numbers: list, target: int) -> Tuple[int, int]:\n",
    "    \"\"\"\n",
    "    The hash map `keys` become the value needed for the int at the index given by the \n",
    "    has map `value` to equal the result. So all you need to do is for each number check\n",
    "    if it exists in these \"needed\" numbers.\n",
    "    \"\"\"\n",
    "    \n",
    "    if not numbers:\n",
    "        return None\n",
    "    \n",
    "    hash_map = {}\n",
    "    \n",
    "    for i, n in enumerate(numbers):\n",
    "        if n in hash_map.keys():\n",
    "            idx = hash_map[n]\n",
    "            index1 = idx\n",
    "            index2 = i\n",
    "            return index1, index2\n",
    "        else:\n",
    "            hash_map[target - n] = i\n",
    "            \n",
    "    return None\n",
    "\n",
    "assert two_sum([2,7,11,15], 9) == (0, 1)\n",
    "assert two_sum([2,7,11,15], 26) == (2, 3)\n",
    "assert two_sum([2,7,11,16], 26) == None\n",
    "assert two_sum([], 26) == None"
   ]
  },
  {
   "cell_type": "code",
   "execution_count": null,
   "metadata": {},
   "outputs": [],
   "source": []
  }
 ],
 "metadata": {
  "kernelspec": {
   "display_name": "Python 3",
   "language": "python",
   "name": "python3"
  },
  "language_info": {
   "codemirror_mode": {
    "name": "ipython",
    "version": 3
   },
   "file_extension": ".py",
   "mimetype": "text/x-python",
   "name": "python",
   "nbconvert_exporter": "python",
   "pygments_lexer": "ipython3",
   "version": "3.6.3"
  }
 },
 "nbformat": 4,
 "nbformat_minor": 2
}
