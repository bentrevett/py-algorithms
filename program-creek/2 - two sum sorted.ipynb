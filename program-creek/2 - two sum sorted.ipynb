{
 "cells": [
  {
   "cell_type": "markdown",
   "metadata": {},
   "source": [
    "- Similar to the previous problem (take an array of ints and return the indices of the two which sum to a desired value)\n",
    "- However this time the array is sorted"
   ]
  },
  {
   "cell_type": "code",
   "execution_count": 1,
   "metadata": {},
   "outputs": [],
   "source": [
    "from typing import Tuple\n",
    "\n",
    "def two_sum_sorted(numbers: list, target: int) -> Tuple[int, int]:\n",
    "    \"\"\"\n",
    "    Uses two pointers on the array. If the two numbers being pointed to \n",
    "    sum lower than the target, then increase the index of the \"lower\" pointer. \n",
    "    If they sum higer than the target, then decrease the index of the \"higher\"\n",
    "    pointer.\n",
    "    \"\"\"\n",
    "    \n",
    "    if not numbers: #handles empty lists\n",
    "        return None\n",
    "    \n",
    "    i = 0\n",
    "    j = len(numbers) - 1\n",
    "    \n",
    "    while i < j:\n",
    "        x = numbers[i] + numbers[j]\n",
    "        if x < target:\n",
    "            i += 1\n",
    "        elif x > target:\n",
    "            j -= 1\n",
    "        else:\n",
    "            return i, j\n",
    "    \n",
    "    return None\n",
    "\n",
    "assert two_sum_sorted([2,7,11,15], 9) == (0, 1)\n",
    "assert two_sum_sorted([2,7,11,15], 26) == (2, 3)\n",
    "assert two_sum_sorted([2,7,11,16], 26) == None\n",
    "assert two_sum_sorted([], 26) == None"
   ]
  }
 ],
 "metadata": {
  "kernelspec": {
   "display_name": "Python 3",
   "language": "python",
   "name": "python3"
  },
  "language_info": {
   "codemirror_mode": {
    "name": "ipython",
    "version": 3
   },
   "file_extension": ".py",
   "mimetype": "text/x-python",
   "name": "python",
   "nbconvert_exporter": "python",
   "pygments_lexer": "ipython3",
   "version": "3.6.3"
  }
 },
 "nbformat": 4,
 "nbformat_minor": 2
}
